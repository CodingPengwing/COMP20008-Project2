{
 "cells": [
  {
   "cell_type": "markdown",
   "metadata": {},
   "source": [
    "# Assignment 2 Task 1a Verification Script\n",
    "This script verifies your solution for task 1a of Assignment 2.\n",
    "\n",
    "This assumes your program lies in a folder called submission."
   ]
  },
  {
   "cell_type": "code",
   "execution_count": 1,
   "metadata": {},
   "outputs": [
    {
     "data": {
      "text/html": [
       "<span style=\"color:blue\">Running your program</span>"
      ],
      "text/plain": [
       "<IPython.core.display.HTML object>"
      ]
     },
     "metadata": {},
     "output_type": "display_data"
    },
    {
     "name": "stdout",
     "output_type": "stream",
     "text": [
      " - Output - \n",
      "[ 2020-10-23 22:32:45.501070 ] Running program (submission/task1a.py)\n",
      "[ 2020-10-23 22:32:45.503037 ] Program output stream:\n",
      "\n",
      "[ 2020-10-23 22:32:45.810520 ] Program error stream:\n",
      "Traceback (most recent call last):\n",
      "  File \"submission/task1a.py\", line 5, in <module>\n",
      "    import textdistance\n",
      "ModuleNotFoundError: No module named 'textdistance'\n",
      "\n",
      "[ 2020-10-23 22:32:45.810630 ] Program took 0.001942 seconds to run.\n",
      "[ 2020-10-23 22:32:45.810640 ] Loading task1a.csv\n",
      "Task 1a testing failed:\n",
      "FileNotFoundError(2, 'File task1a.csv does not exist')\n",
      "\n",
      "\n",
      " - Errors - \n"
     ]
    },
    {
     "data": {
      "text/html": [
       "<span style=\"color:red\">Traceback (most recent call last):<br>  File &quot;verify_ass2_1a.py&quot;, line 182, in &lt;module&gt;<br>    student_df = pd.read_csv(&quot;{}&quot;.format(python_output_name))<br>  File &quot;/Users/tonydang/opt/anaconda3/lib/python3.8/site-packages/pandas/io/parsers.py&quot;, line 676, in parser_f<br>    return _read(filepath_or_buffer, kwds)<br>  File &quot;/Users/tonydang/opt/anaconda3/lib/python3.8/site-packages/pandas/io/parsers.py&quot;, line 448, in _read<br>    parser = TextFileReader(fp_or_buf, **kwds)<br>  File &quot;/Users/tonydang/opt/anaconda3/lib/python3.8/site-packages/pandas/io/parsers.py&quot;, line 880, in __init__<br>    self._make_engine(self.engine)<br>  File &quot;/Users/tonydang/opt/anaconda3/lib/python3.8/site-packages/pandas/io/parsers.py&quot;, line 1114, in _make_engine<br>    self._engine = CParserWrapper(self.f, **self.options)<br>  File &quot;/Users/tonydang/opt/anaconda3/lib/python3.8/site-packages/pandas/io/parsers.py&quot;, line 1891, in __init__<br>    self._reader = parsers.TextReader(src, **kwds)<br>  File &quot;pandas/_libs/parsers.pyx&quot;, line 374, in pandas._libs.parsers.TextReader.__cinit__<br>  File &quot;pandas/_libs/parsers.pyx&quot;, line 674, in pandas._libs.parsers.TextReader._setup_parser_source<br>FileNotFoundError: [Errno 2] File task1a.csv does not exist: &#x27;task1a.csv&#x27;<br></span>"
      ],
      "text/plain": [
       "<IPython.core.display.HTML object>"
      ]
     },
     "metadata": {},
     "output_type": "display_data"
    },
    {
     "name": "stdout",
     "output_type": "stream",
     "text": [
      " ---------- \n",
      "\n"
     ]
    }
   ],
   "source": [
    "import subprocess\n",
    "from IPython.core.display import display, HTML\n",
    "import html\n",
    "program = subprocess.Popen(['python', 'verify_ass2_1a.py'], \n",
    "                           stdout=subprocess.PIPE, stderr=subprocess.PIPE)\n",
    "display(HTML('<span style=\"color:blue\">Running your program</span>'))\n",
    "print(\" - Output - \")\n",
    "print(program.stdout.read().decode())\n",
    "print(\" - Errors - \")\n",
    "error_text = program.stderr.read().decode()\n",
    "if not error_text or len(error_text) <= 1:\n",
    "    error_text = \"No execution errors!\"\n",
    "    display(HTML('<span style=\"color:green\">{}</span>'.format(html.escape(error_text).replace(\"\\n\",\"<br>\"))))\n",
    "else:\n",
    "    display(HTML('<span style=\"color:red\">{}</span>'.format(html.escape(error_text).replace(\"\\n\",\"<br>\"))))\n",
    "print(\" ---------- \")\n",
    "print(\"\")"
   ]
  },
  {
   "cell_type": "markdown",
   "metadata": {},
   "source": [
    "### Cleanup\n",
    "This code snippet removes task1a.csv to clean up your current directory."
   ]
  },
  {
   "cell_type": "code",
   "execution_count": 3,
   "metadata": {},
   "outputs": [
    {
     "name": "stdout",
     "output_type": "stream",
     "text": [
      " - Output - \n",
      "\n",
      " - Errors - \n",
      "\n",
      " ---------- \n"
     ]
    }
   ],
   "source": [
    "import subprocess\n",
    "cleanup = subprocess.Popen(['rm', 'task1a.csv'],\n",
    "                           stdout=subprocess.PIPE, stderr=subprocess.PIPE)\n",
    "print(\" - Output - \")\n",
    "print(cleanup.stdout.read().decode())\n",
    "print(\" - Errors - \")\n",
    "print(cleanup.stderr.read().decode())\n",
    "print(\" ---------- \")"
   ]
  }
 ],
 "metadata": {
  "kernelspec": {
   "display_name": "Python 3",
   "language": "python",
   "name": "python3"
  },
  "language_info": {
   "codemirror_mode": {
    "name": "ipython",
    "version": 3
   },
   "file_extension": ".py",
   "mimetype": "text/x-python",
   "name": "python",
   "nbconvert_exporter": "python",
   "pygments_lexer": "ipython3",
   "version": "3.8.3"
  }
 },
 "nbformat": 4,
 "nbformat_minor": 4
}
