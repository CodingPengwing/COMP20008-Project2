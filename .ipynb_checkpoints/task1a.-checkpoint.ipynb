{
 "cells": [
  {
   "cell_type": "code",
   "execution_count": 8,
   "metadata": {},
   "outputs": [],
   "source": [
    "import re\n",
    "import pandas as pd\n",
    "import numpy as np\n",
    "import textdistance\n",
    "from fuzzywuzzy import fuzz\n",
    "\n",
    "##load in the data\n",
    "abt=pd.read_csv('abt_small.csv',encoding = 'ISO-8859-1')\n",
    "buy=pd.read_csv('buy_small.csv',encoding = 'ISO-8859-1')\n",
    "abt.replace(np.nan, \"\", inplace = True)\n",
    "abt = abt.sort_values(by=\"name\")\n",
    "buy.replace(np.nan, \"\", inplace = True)\n",
    "buy = buy.sort_values(by=\"name\")"
   ]
  },
  {
   "cell_type": "code",
   "execution_count": 9,
   "metadata": {},
   "outputs": [],
   "source": [
    "def clean(string):\n",
    "    # REMOVE MORE CHARS\n",
    "    string = re.sub('[#/.\\\\\\-]', ' ', string)\n",
    "    string = re.sub('( + )', ' ', string)\n",
    "    return string\n",
    "\n",
    "def find_productID_abt(string):\n",
    "    string = clean(string)\n",
    "    strings = string.split()\n",
    "    productID = strings[-1]\n",
    "    return productID\n",
    "\n",
    "def match_productID(productID, string):\n",
    "    strings = string.split()\n",
    "    for string in strings:\n",
    "        if textdistance.levenshtein(productID, string) < 2:\n",
    "            return True\n",
    "    return False\n",
    "\n",
    "for record1 in abt['name']:\n",
    "    productID_abt = find_productID_abt(record1)\n",
    "    matchID_buy = \"\" \n",
    "    for record2 in buy[['idBuy', 'name', 'description']].values:\n",
    "        search_range = record2[1] + \" \" + record2[2]\n",
    "        search_range = clean(search_range)\n",
    "        if match_productID(productID_abt, search_range):\n",
    "            matchID_buy = str(record2[0])\n",
    "            print(productID_abt + \" \"  + matchID_buy)\n",
    "            "
   ]
  },
  {
   "cell_type": "code",
   "execution_count": 19,
   "metadata": {},
   "outputs": [],
   "source": []
  }
 ],
 "metadata": {
  "kernelspec": {
   "display_name": "Python 3",
   "language": "python",
   "name": "python3"
  },
  "language_info": {
   "codemirror_mode": {
    "name": "ipython",
    "version": 3
   },
   "file_extension": ".py",
   "mimetype": "text/x-python",
   "name": "python",
   "nbconvert_exporter": "python",
   "pygments_lexer": "ipython3",
   "version": "3.8.3"
  }
 },
 "nbformat": 4,
 "nbformat_minor": 4
}
